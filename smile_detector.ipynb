{
 "cells": [
  {
   "cell_type": "markdown",
   "id": "b80c340a",
   "metadata": {},
   "source": [
    "## Simple Face Detector With MTCNN and CV"
   ]
  },
  {
   "cell_type": "code",
   "execution_count": 10,
   "id": "74add13d",
   "metadata": {},
   "outputs": [],
   "source": [
    "from mtcnn import MTCNN\n",
    "import cv2 as cv"
   ]
  },
  {
   "cell_type": "code",
   "execution_count": 53,
   "id": "8866aa14",
   "metadata": {},
   "outputs": [
    {
     "name": "stdout",
     "output_type": "stream",
     "text": [
      "1/1 [==============================] - 0s 140ms/step\n",
      "1/1 [==============================] - 0s 130ms/step\n",
      "1/1 [==============================] - 0s 36ms/step\n",
      "1/1 [==============================] - 0s 41ms/step\n",
      "1/1 [==============================] - 0s 32ms/step\n",
      "1/1 [==============================] - 0s 32ms/step\n",
      "1/1 [==============================] - 0s 30ms/step\n",
      "1/1 [==============================] - 0s 37ms/step\n",
      "1/1 [==============================] - 0s 28ms/step\n",
      "2/2 [==============================] - 0s 6ms/step\n",
      "1/1 [==============================] - 0s 187ms/step\n"
     ]
    },
    {
     "data": {
      "text/plain": [
       "{'box': [123, 69, 170, 230],\n",
       " 'confidence': 0.9999860525131226,\n",
       " 'keypoints': {'left_eye': (174, 166),\n",
       "  'right_eye': (253, 167),\n",
       "  'nose': (216, 210),\n",
       "  'mouth_left': (178, 245),\n",
       "  'mouth_right': (248, 246)}}"
      ]
     },
     "execution_count": 53,
     "metadata": {},
     "output_type": "execute_result"
    }
   ],
   "source": [
    "img = cv.imread('angelina.png')\n",
    "\n",
    "rgb_img = cv.cvtColor(img , cv.COLOR_BGR2RGB)\n",
    "\n",
    "detector_obj= MTCNN()\n",
    "\n",
    "face = detector_obj.detect_faces(rgb_img)[0]\n",
    "\n",
    "face"
   ]
  },
  {
   "cell_type": "code",
   "execution_count": 54,
   "id": "04b518ba",
   "metadata": {},
   "outputs": [],
   "source": [
    "x , y , w , h = face['box']\n",
    "conf = face['confidence']\n",
    "\n",
    "cv.rectangle(img , (x, y ) , (x+ w , y+ h) , (0,255,0) , 2)\n",
    "\n",
    "cv.circle(img ,(216, 210) , 5 ,(0,255,0),2 )\n",
    "cv.putText(img , f\"CF : {conf:0.2}\" , (x , y - 10)  , cv.FONT_HERSHEY_PLAIN,  1 , (255,255,0) , 1 )\n",
    "\n",
    "for i , item in face['keypoints'].items():\n",
    "    cv.circle(img ,item , 5 ,(0,255,0),2 )\n",
    "\n",
    "cv.imshow('MyWin',img)\n",
    "cv.waitKey(0)\n",
    "cv.destroyAllWindows()"
   ]
  }
 ],
 "metadata": {
  "kernelspec": {
   "display_name": "Python 3 (ipykernel)",
   "language": "python",
   "name": "python3"
  },
  "language_info": {
   "codemirror_mode": {
    "name": "ipython",
    "version": 3
   },
   "file_extension": ".py",
   "mimetype": "text/x-python",
   "name": "python",
   "nbconvert_exporter": "python",
   "pygments_lexer": "ipython3",
   "version": "3.10.7"
  }
 },
 "nbformat": 4,
 "nbformat_minor": 5
}
